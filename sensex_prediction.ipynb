{
 "cells": [
  {
   "cell_type": "code",
   "execution_count": 50,
   "id": "12a98be5",
   "metadata": {},
   "outputs": [],
   "source": [
    "\n",
    "\n",
    "# import yfinance as yf\n",
    "# from datetime import datetime\n",
    "\n",
    "# Set the ticker symbol for BSE Sensex and the date range\n",
    "# symbol = \"^BSESN\"\n",
    "# start_date = \"2014-01-01\"\n",
    "# end_date = datetime.today().strftime('%Y-%m-%d')\n",
    "\n",
    "# Download the historical data\n",
    "# sensex_data = yf.download(symbol, start=start_date, end=end_date, interval=\"1d\")\n",
    "\n",
    "# Save to CSV\n",
    "# csv_path = r\"C:\\Users\\Nagesh Agrawal\\OneDrive\\Desktop\\P-SENSEX_PROJECT\\PROJECT DATA\\sensex_2014_to_today.csv\"\n",
    "# sensex_data.to_csv(csv_path)\n",
    "\n",
    "# csv_path\n",
    "\n"
   ]
  },
  {
   "cell_type": "code",
   "execution_count": 51,
   "id": "787295ec",
   "metadata": {},
   "outputs": [],
   "source": [
    "# Step 1: Load Data\n",
    "df = pd.read_csv(r\"C:\\Users\\Nagesh Agrawal\\OneDrive\\Desktop\\P-SENSEX_PROJECT\\PROJECT DATA\\sensex_2014_to_today.csv\")\n",
    "\n",
    "# Step 2: Fix Date\n",
    "if 'Date' not in df.columns:\n",
    "    df['Date'] = pd.to_datetime(df.index)\n",
    "else:\n",
    "    df['Date'] = pd.to_datetime(df['Date'])\n",
    "\n",
    "# Step 3: Get only numeric columns that exist\n",
    "numeric_cols = ['Open', 'High', 'Low', 'Close', 'Volume']\n",
    "numeric_cols = [col for col in numeric_cols if col in df.columns]\n",
    "\n",
    "# Step 4: Convert to float\n",
    "for col in numeric_cols:\n",
    "    df[col] = pd.to_numeric(df[col], errors='coerce')\n",
    "\n",
    "# Step 5: Drop rows with any missing values\n",
    "df.dropna(inplace=True)\n",
    "\n",
    "# Final columns\n",
    "df = df[['Date'] + numeric_cols]\n",
    "df = df.sort_values('Date').reset_index(drop=True)\n"
   ]
  },
  {
   "cell_type": "code",
   "execution_count": 52,
   "id": "65a73473",
   "metadata": {},
   "outputs": [
    {
     "data": {
      "application/vnd.microsoft.datawrangler.viewer.v0+json": {
       "columns": [
        {
         "name": "index",
         "rawType": "object",
         "type": "string"
        },
        {
         "name": "0",
         "rawType": "object",
         "type": "unknown"
        }
       ],
       "ref": "bd666993-fbf7-4d43-b4c5-59895263f3f8",
       "rows": [
        [
         "Date",
         "datetime64[ns]"
        ],
        [
         "Open",
         "float64"
        ],
        [
         "High",
         "float64"
        ],
        [
         "Low",
         "float64"
        ],
        [
         "Close",
         "float64"
        ],
        [
         "Volume",
         "float64"
        ]
       ],
       "shape": {
        "columns": 1,
        "rows": 6
       }
      },
      "text/plain": [
       "Date      datetime64[ns]\n",
       "Open             float64\n",
       "High             float64\n",
       "Low              float64\n",
       "Close            float64\n",
       "Volume           float64\n",
       "dtype: object"
      ]
     },
     "execution_count": 52,
     "metadata": {},
     "output_type": "execute_result"
    }
   ],
   "source": [
    "df.dtypes"
   ]
  },
  {
   "cell_type": "code",
   "execution_count": 53,
   "id": "6fabbb78",
   "metadata": {},
   "outputs": [
    {
     "data": {
      "application/vnd.microsoft.datawrangler.viewer.v0+json": {
       "columns": [
        {
         "name": "index",
         "rawType": "int64",
         "type": "integer"
        },
        {
         "name": "Date",
         "rawType": "datetime64[ns]",
         "type": "datetime"
        },
        {
         "name": "Open",
         "rawType": "float64",
         "type": "float"
        },
        {
         "name": "High",
         "rawType": "float64",
         "type": "float"
        },
        {
         "name": "Low",
         "rawType": "float64",
         "type": "float"
        },
        {
         "name": "Close",
         "rawType": "float64",
         "type": "float"
        },
        {
         "name": "Volume",
         "rawType": "float64",
         "type": "float"
        }
       ],
       "ref": "b978e726-0279-4d96-a3e8-c6b0527b0743",
       "rows": [
        [
         "0",
         "1970-01-01 00:00:00.000000002",
         "21222.189453125",
         "21244.349609375",
         "21133.8203125",
         "21140.48046875",
         "4000.0"
        ],
        [
         "1",
         "1970-01-01 00:00:00.000000003",
         "21179.91015625",
         "21331.3203125",
         "20846.669921875",
         "20888.330078125",
         "9300.0"
        ],
        [
         "2",
         "1970-01-01 00:00:00.000000004",
         "20819.580078125",
         "20885.1796875",
         "20731.330078125",
         "20851.330078125",
         "9300.0"
        ],
        [
         "3",
         "1970-01-01 00:00:00.000000005",
         "20913.7890625",
         "20913.7890625",
         "20721.98046875",
         "20787.30078125",
         "7600.0"
        ],
        [
         "4",
         "1970-01-01 00:00:00.000000006",
         "20845.76953125",
         "20890.48046875",
         "20637.1796875",
         "20693.240234375",
         "8100.0"
        ],
        [
         "5",
         "1970-01-01 00:00:00.000000007",
         "20767.419921875",
         "20786.41015625",
         "20688.1796875",
         "20729.380859375",
         "8000.0"
        ],
        [
         "6",
         "1970-01-01 00:00:00.000000008",
         "20755.73046875",
         "20778.130859375",
         "20652.689453125",
         "20713.369140625",
         "9000.0"
        ],
        [
         "7",
         "1970-01-01 00:00:00.000000009",
         "20760.720703125",
         "20971.23046875",
         "20625.169921875",
         "20758.490234375",
         "10400.0"
        ],
        [
         "8",
         "1970-01-01 00:00:00.000000010",
         "20850.5390625",
         "21169.080078125",
         "20850.5390625",
         "21134.2109375",
         "7900.0"
        ],
        [
         "9",
         "1970-01-01 00:00:00.000000011",
         "21115.0",
         "21154.759765625",
         "21009.05078125",
         "21032.880859375",
         "5600.0"
        ],
        [
         "10",
         "1970-01-01 00:00:00.000000012",
         "21091.4609375",
         "21302.73046875",
         "21091.4609375",
         "21289.490234375",
         "9400.0"
        ],
        [
         "11",
         "1970-01-01 00:00:00.000000013",
         "21366.91015625",
         "21379.2890625",
         "21199.650390625",
         "21265.1796875",
         "13400.0"
        ],
        [
         "12",
         "1970-01-01 00:00:00.000000014",
         "21236.650390625",
         "21270.109375",
         "21015.609375",
         "21063.619140625",
         "12000.0"
        ],
        [
         "13",
         "1970-01-01 00:00:00.000000015",
         "21083.529296875",
         "21221.369140625",
         "21001.130859375",
         "21205.05078125",
         "6000.0"
        ],
        [
         "14",
         "1970-01-01 00:00:00.000000016",
         "21237.9609375",
         "21302.51953125",
         "21189.19921875",
         "21251.119140625",
         "9400.0"
        ],
        [
         "15",
         "1970-01-01 00:00:00.000000017",
         "21251.650390625",
         "21377.91015625",
         "21168.4296875",
         "21337.669921875",
         "13400.0"
        ],
        [
         "16",
         "1970-01-01 00:00:00.000000018",
         "21319.689453125",
         "21409.66015625",
         "21264.7109375",
         "21373.66015625",
         "6500.0"
        ],
        [
         "17",
         "1970-01-01 00:00:00.000000019",
         "21289.150390625",
         "21333.66015625",
         "21123.990234375",
         "21133.560546875",
         "10800.0"
        ],
        [
         "18",
         "1970-01-01 00:00:00.000000020",
         "20899.029296875",
         "20899.029296875",
         "20688.029296875",
         "20707.44921875",
         "10100.0"
        ],
        [
         "19",
         "1970-01-01 00:00:00.000000021",
         "20721.169921875",
         "20795.349609375",
         "20554.279296875",
         "20683.509765625",
         "8200.0"
        ],
        [
         "20",
         "1970-01-01 00:00:00.000000022",
         "20784.0390625",
         "20828.6796875",
         "20613.619140625",
         "20647.30078125",
         "7800.0"
        ],
        [
         "21",
         "1970-01-01 00:00:00.000000023",
         "20491.740234375",
         "20528.41015625",
         "20343.779296875",
         "20498.25",
         "12600.0"
        ],
        [
         "22",
         "1970-01-01 00:00:00.000000024",
         "20544.640625",
         "20572.3203125",
         "20448.4296875",
         "20513.849609375",
         "6100.0"
        ],
        [
         "23",
         "1970-01-01 00:00:00.000000025",
         "20479.029296875",
         "20480.349609375",
         "20182.19921875",
         "20209.259765625",
         "5700.0"
        ],
        [
         "24",
         "1970-01-01 00:00:00.000000026",
         "20050.990234375",
         "20255.51953125",
         "19963.119140625",
         "20211.9296875",
         "9800.0"
        ],
        [
         "25",
         "1970-01-01 00:00:00.000000027",
         "20241.119140625",
         "20289.330078125",
         "20076.099609375",
         "20261.029296875",
         "9300.0"
        ],
        [
         "26",
         "1970-01-01 00:00:00.000000028",
         "20286.08984375",
         "20358.189453125",
         "20079.8203125",
         "20310.740234375",
         "12400.0"
        ],
        [
         "27",
         "1970-01-01 00:00:00.000000029",
         "20441.0390625",
         "20450.509765625",
         "20282.30078125",
         "20376.560546875",
         "11100.0"
        ],
        [
         "28",
         "1970-01-01 00:00:00.000000030",
         "20429.16015625",
         "20434.5",
         "20312.2109375",
         "20334.26953125",
         "7900.0"
        ],
        [
         "29",
         "1970-01-01 00:00:00.000000031",
         "20400.939453125",
         "20443.349609375",
         "20349.509765625",
         "20363.369140625",
         "9400.0"
        ],
        [
         "30",
         "1970-01-01 00:00:00.000000032",
         "20449.830078125",
         "20516.599609375",
         "20427.23046875",
         "20448.490234375",
         "10100.0"
        ],
        [
         "31",
         "1970-01-01 00:00:00.000000033",
         "20478.669921875",
         "20503.859375",
         "20164.669921875",
         "20193.349609375",
         "7900.0"
        ],
        [
         "32",
         "1970-01-01 00:00:00.000000034",
         "20265.130859375",
         "20391.94921875",
         "20149.009765625",
         "20366.8203125",
         "8300.0"
        ],
        [
         "33",
         "1970-01-01 00:00:00.000000035",
         "20438.869140625",
         "20492.4296875",
         "20338.94921875",
         "20464.060546875",
         "6100.0"
        ],
        [
         "34",
         "1970-01-01 00:00:00.000000036",
         "20457.560546875",
         "20685.01953125",
         "20436.48046875",
         "20634.2109375",
         "9400.0"
        ],
        [
         "35",
         "1970-01-01 00:00:00.000000037",
         "20643.849609375",
         "20750.51953125",
         "20629.560546875",
         "20722.970703125",
         "4700.0"
        ],
        [
         "36",
         "1970-01-01 00:00:00.000000038",
         "20661.0703125",
         "20662.66015625",
         "20522.0390625",
         "20536.640625",
         "6000.0"
        ],
        [
         "37",
         "1970-01-01 00:00:00.000000039",
         "20600.580078125",
         "20725.0390625",
         "20599.91015625",
         "20700.75",
         "6300.0"
        ],
        [
         "38",
         "1970-01-01 00:00:00.000000040",
         "20695.48046875",
         "20828.630859375",
         "20637.30078125",
         "20811.439453125",
         "12500.0"
        ],
        [
         "39",
         "1970-01-01 00:00:00.000000041",
         "20877.720703125",
         "20912.5390625",
         "20777.73046875",
         "20852.470703125",
         "9500.0"
        ],
        [
         "40",
         "1970-01-01 00:00:00.000000042",
         "20869.609375",
         "21005.0390625",
         "20860.01953125",
         "20986.990234375",
         "8500.0"
        ],
        [
         "41",
         "1970-01-01 00:00:00.000000043",
         "20995.390625",
         "21140.509765625",
         "20989.66015625",
         "21120.119140625",
         "11400.0"
        ],
        [
         "42",
         "1970-01-01 00:00:00.000000044",
         "21079.26953125",
         "21140.0",
         "20920.98046875",
         "20946.650390625",
         "121600.0"
        ],
        [
         "43",
         "1970-01-01 00:00:00.000000045",
         "20947.0",
         "21224.640625",
         "20940.390625",
         "21209.73046875",
         "9700.0"
        ],
        [
         "44",
         "1970-01-01 00:00:00.000000046",
         "21280.359375",
         "21333.19921875",
         "21176.16015625",
         "21276.859375",
         "7500.0"
        ],
        [
         "45",
         "1970-01-01 00:00:00.000000047",
         "21336.3203125",
         "21525.140625",
         "21329.880859375",
         "21513.869140625",
         "9700.0"
        ],
        [
         "46",
         "1970-01-01 00:00:00.000000048",
         "21539.439453125",
         "21960.890625",
         "21539.439453125",
         "21919.7890625",
         "15200.0"
        ],
        [
         "47",
         "1970-01-01 00:00:00.000000049",
         "21819.189453125",
         "22023.98046875",
         "21805.220703125",
         "21934.830078125",
         "15500.0"
        ],
        [
         "48",
         "1970-01-01 00:00:00.000000050",
         "21918.830078125",
         "22018.51953125",
         "21772.109375",
         "21826.419921875",
         "12000.0"
        ],
        [
         "49",
         "1970-01-01 00:00:00.000000051",
         "21793.3203125",
         "21965.94921875",
         "21768.140625",
         "21856.220703125",
         "10400.0"
        ]
       ],
       "shape": {
        "columns": 6,
        "rows": 2830
       }
      },
      "text/html": [
       "<div>\n",
       "<style scoped>\n",
       "    .dataframe tbody tr th:only-of-type {\n",
       "        vertical-align: middle;\n",
       "    }\n",
       "\n",
       "    .dataframe tbody tr th {\n",
       "        vertical-align: top;\n",
       "    }\n",
       "\n",
       "    .dataframe thead th {\n",
       "        text-align: right;\n",
       "    }\n",
       "</style>\n",
       "<table border=\"1\" class=\"dataframe\">\n",
       "  <thead>\n",
       "    <tr style=\"text-align: right;\">\n",
       "      <th></th>\n",
       "      <th>Date</th>\n",
       "      <th>Open</th>\n",
       "      <th>High</th>\n",
       "      <th>Low</th>\n",
       "      <th>Close</th>\n",
       "      <th>Volume</th>\n",
       "    </tr>\n",
       "  </thead>\n",
       "  <tbody>\n",
       "    <tr>\n",
       "      <th>0</th>\n",
       "      <td>1970-01-01 00:00:00.000000002</td>\n",
       "      <td>21222.189453</td>\n",
       "      <td>21244.349609</td>\n",
       "      <td>21133.820312</td>\n",
       "      <td>21140.480469</td>\n",
       "      <td>4000.0</td>\n",
       "    </tr>\n",
       "    <tr>\n",
       "      <th>1</th>\n",
       "      <td>1970-01-01 00:00:00.000000003</td>\n",
       "      <td>21179.910156</td>\n",
       "      <td>21331.320312</td>\n",
       "      <td>20846.669922</td>\n",
       "      <td>20888.330078</td>\n",
       "      <td>9300.0</td>\n",
       "    </tr>\n",
       "    <tr>\n",
       "      <th>2</th>\n",
       "      <td>1970-01-01 00:00:00.000000004</td>\n",
       "      <td>20819.580078</td>\n",
       "      <td>20885.179688</td>\n",
       "      <td>20731.330078</td>\n",
       "      <td>20851.330078</td>\n",
       "      <td>9300.0</td>\n",
       "    </tr>\n",
       "    <tr>\n",
       "      <th>3</th>\n",
       "      <td>1970-01-01 00:00:00.000000005</td>\n",
       "      <td>20913.789062</td>\n",
       "      <td>20913.789062</td>\n",
       "      <td>20721.980469</td>\n",
       "      <td>20787.300781</td>\n",
       "      <td>7600.0</td>\n",
       "    </tr>\n",
       "    <tr>\n",
       "      <th>4</th>\n",
       "      <td>1970-01-01 00:00:00.000000006</td>\n",
       "      <td>20845.769531</td>\n",
       "      <td>20890.480469</td>\n",
       "      <td>20637.179688</td>\n",
       "      <td>20693.240234</td>\n",
       "      <td>8100.0</td>\n",
       "    </tr>\n",
       "    <tr>\n",
       "      <th>...</th>\n",
       "      <td>...</td>\n",
       "      <td>...</td>\n",
       "      <td>...</td>\n",
       "      <td>...</td>\n",
       "      <td>...</td>\n",
       "      <td>...</td>\n",
       "    </tr>\n",
       "    <tr>\n",
       "      <th>2825</th>\n",
       "      <td>1970-01-01 00:00:00.000002827</td>\n",
       "      <td>83398.078125</td>\n",
       "      <td>83516.820312</td>\n",
       "      <td>83262.226562</td>\n",
       "      <td>83442.500000</td>\n",
       "      <td>6200.0</td>\n",
       "    </tr>\n",
       "    <tr>\n",
       "      <th>2826</th>\n",
       "      <td>1970-01-01 00:00:00.000002828</td>\n",
       "      <td>83387.031250</td>\n",
       "      <td>83812.312500</td>\n",
       "      <td>83320.953125</td>\n",
       "      <td>83712.507812</td>\n",
       "      <td>15300.0</td>\n",
       "    </tr>\n",
       "    <tr>\n",
       "      <th>2827</th>\n",
       "      <td>1970-01-01 00:00:00.000002829</td>\n",
       "      <td>83625.890625</td>\n",
       "      <td>83781.359375</td>\n",
       "      <td>83382.281250</td>\n",
       "      <td>83536.078125</td>\n",
       "      <td>7800.0</td>\n",
       "    </tr>\n",
       "    <tr>\n",
       "      <th>2828</th>\n",
       "      <td>1970-01-01 00:00:00.000002830</td>\n",
       "      <td>83658.203125</td>\n",
       "      <td>83742.281250</td>\n",
       "      <td>83134.968750</td>\n",
       "      <td>83190.281250</td>\n",
       "      <td>7500.0</td>\n",
       "    </tr>\n",
       "    <tr>\n",
       "      <th>2829</th>\n",
       "      <td>1970-01-01 00:00:00.000002831</td>\n",
       "      <td>82820.757812</td>\n",
       "      <td>83040.742188</td>\n",
       "      <td>82442.250000</td>\n",
       "      <td>82500.468750</td>\n",
       "      <td>10700.0</td>\n",
       "    </tr>\n",
       "  </tbody>\n",
       "</table>\n",
       "<p>2830 rows × 6 columns</p>\n",
       "</div>"
      ],
      "text/plain": [
       "                              Date          Open          High           Low  \\\n",
       "0    1970-01-01 00:00:00.000000002  21222.189453  21244.349609  21133.820312   \n",
       "1    1970-01-01 00:00:00.000000003  21179.910156  21331.320312  20846.669922   \n",
       "2    1970-01-01 00:00:00.000000004  20819.580078  20885.179688  20731.330078   \n",
       "3    1970-01-01 00:00:00.000000005  20913.789062  20913.789062  20721.980469   \n",
       "4    1970-01-01 00:00:00.000000006  20845.769531  20890.480469  20637.179688   \n",
       "...                            ...           ...           ...           ...   \n",
       "2825 1970-01-01 00:00:00.000002827  83398.078125  83516.820312  83262.226562   \n",
       "2826 1970-01-01 00:00:00.000002828  83387.031250  83812.312500  83320.953125   \n",
       "2827 1970-01-01 00:00:00.000002829  83625.890625  83781.359375  83382.281250   \n",
       "2828 1970-01-01 00:00:00.000002830  83658.203125  83742.281250  83134.968750   \n",
       "2829 1970-01-01 00:00:00.000002831  82820.757812  83040.742188  82442.250000   \n",
       "\n",
       "             Close   Volume  \n",
       "0     21140.480469   4000.0  \n",
       "1     20888.330078   9300.0  \n",
       "2     20851.330078   9300.0  \n",
       "3     20787.300781   7600.0  \n",
       "4     20693.240234   8100.0  \n",
       "...            ...      ...  \n",
       "2825  83442.500000   6200.0  \n",
       "2826  83712.507812  15300.0  \n",
       "2827  83536.078125   7800.0  \n",
       "2828  83190.281250   7500.0  \n",
       "2829  82500.468750  10700.0  \n",
       "\n",
       "[2830 rows x 6 columns]"
      ]
     },
     "execution_count": 53,
     "metadata": {},
     "output_type": "execute_result"
    }
   ],
   "source": [
    "df"
   ]
  },
  {
   "cell_type": "code",
   "execution_count": 54,
   "id": "7242d43b",
   "metadata": {},
   "outputs": [],
   "source": [
    "# 1️⃣ Predict next day closing price (regression)\n",
    "df['Next_Close'] = df['Close'].shift(-1)\n",
    "\n",
    "# 2️⃣ Predict direction (classification: 1 if up, 0 if down/stable)\n",
    "df['Price_Direction'] = (df['Next_Close'] > df['Close']).astype(int)\n",
    "\n",
    "# 3️⃣ Predict return percentage\n",
    "df['Return_%'] = ((df['Next_Close'] - df['Close']) / df['Close']) * 100\n",
    "\n",
    "# 4️⃣ Predict trading signal (multi-class)\n",
    "def label_signal(x):\n",
    "    if x > 0.8:\n",
    "        return 'BUY'\n",
    "    elif x < -0.8:\n",
    "        return 'SELL'\n",
    "    else:\n",
    "        return 'HOLD'\n",
    "\n",
    "df['Signal'] = df['Return_%'].apply(label_signal)\n"
   ]
  },
  {
   "cell_type": "markdown",
   "id": "6ab52790",
   "metadata": {},
   "source": [
    "| Target Column     | Purpose                                       |\n",
    "| ----------------- | --------------------------------------------- |\n",
    "| `Next_Close`      | Predict next day closing price (regression)   |\n",
    "| `Price_Direction` | Predict up/down (classification 0/1)          |\n",
    "| `Return_%`        | Predict percent return (regression)           |\n",
    "| `Signal`          | Predict action: BUY, SELL, HOLD (multi-class) |\n"
   ]
  },
  {
   "cell_type": "code",
   "execution_count": 55,
   "id": "5a1305cc",
   "metadata": {},
   "outputs": [
    {
     "data": {
      "text/plain": [
       "Index(['Date', 'Open', 'High', 'Low', 'Close', 'Volume', 'Next_Close',\n",
       "       'Price_Direction', 'Return_%', 'Signal'],\n",
       "      dtype='object')"
      ]
     },
     "execution_count": 55,
     "metadata": {},
     "output_type": "execute_result"
    }
   ],
   "source": [
    "df.columns"
   ]
  },
  {
   "cell_type": "code",
   "execution_count": 56,
   "id": "f34d9318",
   "metadata": {},
   "outputs": [],
   "source": [
    "# 📌 Feature Engineering\n",
    "df['SMA_5'] = df['Close'].rolling(window=5).mean()\n",
    "df['SMA_10'] = df['Close'].rolling(window=10).mean()\n",
    "df['Price_Range'] = df['High'] - df['Low']\n",
    "df['Daily_Change_%'] = ((df['Close'] - df['Open']) / df['Open']) * 100\n",
    "df['Rolling_STD_5'] = df['Close'].rolling(window=5).std()\n",
    "df['Close/Open'] = df['Close'] / df['Open']\n"
   ]
  },
  {
   "cell_type": "code",
   "execution_count": 57,
   "id": "1358fea7",
   "metadata": {},
   "outputs": [],
   "source": [
    "from sklearn.model_selection import train_test_split\n",
    "\n",
    "# ✅ Step 1: Define Feature Columns\n",
    "features = [\n",
    "    'Open', 'High', 'Low', 'Volume',\n",
    "    'SMA_5', 'SMA_10',\n",
    "    'Price_Range', 'Daily_Change_%',\n",
    "    'Rolling_STD_5', 'Close/Open'\n",
    "]\n",
    "\n",
    "# ✅ Step 2: Drop rows where any of these are missing\n",
    "required_cols = features + ['Next_Close', 'Price_Direction', 'Signal']\n",
    "df.dropna(subset=required_cols, inplace=True)\n",
    "\n",
    "# ✅ Step 3: Define Input Features and Target Columns\n",
    "X = df[features]\n",
    "\n",
    "y_class = df['Price_Direction']    # Binary classification\n",
    "y_reg = df['Next_Close']           # Regression target\n",
    "y_signal = df['Signal']            # Multi-class signal\n",
    "\n",
    "# ✅ Step 4: Split only once (80% train, 20% test)\n",
    "X_train, X_test, y_train_class, y_test_class = train_test_split(\n",
    "    X, y_class, test_size=0.2, shuffle=False\n",
    ")\n",
    "\n",
    "# ✅ Step 5: Use same split logic for other targets (preserve order)\n",
    "y_train_reg = y_reg.iloc[:len(X_train)].reset_index(drop=True)\n",
    "y_test_reg = y_reg.iloc[len(X_train):].reset_index(drop=True)\n",
    "\n",
    "y_train_signal = y_signal.iloc[:len(X_train)].reset_index(drop=True)\n",
    "y_test_signal = y_signal.iloc[len(X_train):].reset_index(drop=True)\n"
   ]
  },
  {
   "cell_type": "markdown",
   "id": "cc609c29",
   "metadata": {},
   "source": [
    "📌 1. Linear Regression (Next Day Close Price)"
   ]
  },
  {
   "cell_type": "code",
   "execution_count": 58,
   "id": "1c71ef03",
   "metadata": {},
   "outputs": [
    {
     "name": "stdout",
     "output_type": "stream",
     "text": [
      "📉 Regression Metrics:\n",
      "RMSE: 629.0607796329174\n",
      "R² Score: 0.9921014186235214\n"
     ]
    },
    {
     "name": "stderr",
     "output_type": "stream",
     "text": [
      "c:\\Users\\Nagesh Agrawal\\anaconda3\\Lib\\site-packages\\sklearn\\metrics\\_regression.py:492: FutureWarning: 'squared' is deprecated in version 1.4 and will be removed in 1.6. To calculate the root mean squared error, use the function'root_mean_squared_error'.\n",
      "  warnings.warn(\n"
     ]
    }
   ],
   "source": [
    "from sklearn.linear_model import LinearRegression\n",
    "from sklearn.metrics import mean_squared_error, r2_score\n",
    "\n",
    "# Model\n",
    "lr_model = LinearRegression()\n",
    "lr_model.fit(X_train, y_train_reg)\n",
    "\n",
    "# Predict\n",
    "y_pred_reg = lr_model.predict(X_test)\n",
    "\n",
    "# Evaluation\n",
    "print(\"📉 Regression Metrics:\")\n",
    "print(\"RMSE:\", mean_squared_error(y_test_reg, y_pred_reg, squared=False))\n",
    "print(\"R² Score:\", r2_score(y_test_reg, y_pred_reg))\n"
   ]
  },
  {
   "cell_type": "markdown",
   "id": "dd66c912",
   "metadata": {},
   "source": [
    "📌 2. Logistic Regression (Price_Direction)"
   ]
  },
  {
   "cell_type": "code",
   "execution_count": 59,
   "id": "b681d168",
   "metadata": {},
   "outputs": [
    {
     "name": "stdout",
     "output_type": "stream",
     "text": [
      "✅ Classification Report (Price Direction):\n",
      "              precision    recall  f1-score   support\n",
      "\n",
      "           0       0.46      0.84      0.60       253\n",
      "           1       0.61      0.21      0.31       311\n",
      "\n",
      "    accuracy                           0.49       564\n",
      "   macro avg       0.54      0.52      0.45       564\n",
      "weighted avg       0.55      0.49      0.44       564\n",
      "\n"
     ]
    }
   ],
   "source": [
    "from sklearn.linear_model import LogisticRegression\n",
    "from sklearn.metrics import accuracy_score, classification_report\n",
    "\n",
    "# Model\n",
    "clf_model = LogisticRegression(max_iter=1000)\n",
    "clf_model.fit(X_train, y_train_class)\n",
    "\n",
    "# Predict\n",
    "y_pred_class = clf_model.predict(X_test)\n",
    "\n",
    "# Evaluation\n",
    "print(\"✅ Classification Report (Price Direction):\")\n",
    "print(classification_report(y_test_class, y_pred_class))\n"
   ]
  },
  {
   "cell_type": "markdown",
   "id": "ef8397ef",
   "metadata": {},
   "source": [
    "📌 3. Random Forest (BUY / SELL / HOLD)"
   ]
  },
  {
   "cell_type": "code",
   "execution_count": 60,
   "id": "d81fbec5",
   "metadata": {},
   "outputs": [
    {
     "name": "stdout",
     "output_type": "stream",
     "text": [
      "📊 Signal Classification Report:\n",
      "              precision    recall  f1-score   support\n",
      "\n",
      "         BUY       0.00      0.00      0.00        69\n",
      "        HOLD       0.76      0.99      0.86       430\n",
      "        SELL       0.00      0.00      0.00        65\n",
      "\n",
      "    accuracy                           0.76       564\n",
      "   macro avg       0.25      0.33      0.29       564\n",
      "weighted avg       0.58      0.76      0.66       564\n",
      "\n"
     ]
    }
   ],
   "source": [
    "from sklearn.ensemble import RandomForestClassifier\n",
    "\n",
    "# Model\n",
    "rf_model = RandomForestClassifier(n_estimators=100, random_state=42)\n",
    "rf_model.fit(X_train, y_train_signal)\n",
    "\n",
    "# Predict\n",
    "y_pred_signal = rf_model.predict(X_test)\n",
    "\n",
    "# Evaluation\n",
    "print(\"📊 Signal Classification Report:\")\n",
    "print(classification_report(y_test_signal, y_pred_signal))\n"
   ]
  },
  {
   "cell_type": "code",
   "execution_count": 61,
   "id": "7cd8a027",
   "metadata": {},
   "outputs": [
    {
     "data": {
      "text/plain": [
       "['C:\\\\Users\\\\Nagesh Agrawal\\\\OneDrive\\\\Desktop\\\\P-SENSEX_PROJECT\\\\models\\\\signal_model.pkl']"
      ]
     },
     "execution_count": 61,
     "metadata": {},
     "output_type": "execute_result"
    }
   ],
   "source": [
    "import joblib\n",
    "\n",
    "# Step 1: Create folder (only if not done)\n",
    "import os\n",
    "os.makedirs(\"models\", exist_ok=True)\n",
    "\n",
    "# Step 2: Save all 3 models\n",
    "joblib.dump(lr_model, r\"C:\\Users\\Nagesh Agrawal\\OneDrive\\Desktop\\P-SENSEX_PROJECT\\models\\reg_model.pkl\")      # Regression model\n",
    "joblib.dump(clf_model, r\"C:\\Users\\Nagesh Agrawal\\OneDrive\\Desktop\\P-SENSEX_PROJECT\\models\\clf_model.pkl\")     # Binary classifier\n",
    "joblib.dump(rf_model, r\"C:\\Users\\Nagesh Agrawal\\OneDrive\\Desktop\\P-SENSEX_PROJECT\\models\\signal_model.pkl\")   # Multi-class signal\n"
   ]
  },
  {
   "cell_type": "code",
   "execution_count": 62,
   "id": "b250d1f6",
   "metadata": {},
   "outputs": [
    {
     "data": {
      "text/plain": [
       "Index(['Date', 'Open', 'High', 'Low', 'Close', 'Volume', 'Next_Close',\n",
       "       'Price_Direction', 'Return_%', 'Signal', 'SMA_5', 'SMA_10',\n",
       "       'Price_Range', 'Daily_Change_%', 'Rolling_STD_5', 'Close/Open'],\n",
       "      dtype='object')"
      ]
     },
     "execution_count": 62,
     "metadata": {},
     "output_type": "execute_result"
    }
   ],
   "source": [
    "df.columns"
   ]
  }
 ],
 "metadata": {
  "kernelspec": {
   "display_name": "base",
   "language": "python",
   "name": "python3"
  },
  "language_info": {
   "codemirror_mode": {
    "name": "ipython",
    "version": 3
   },
   "file_extension": ".py",
   "mimetype": "text/x-python",
   "name": "python",
   "nbconvert_exporter": "python",
   "pygments_lexer": "ipython3",
   "version": "3.12.7"
  }
 },
 "nbformat": 4,
 "nbformat_minor": 5
}
